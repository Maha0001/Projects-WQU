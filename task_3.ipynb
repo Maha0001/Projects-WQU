{
 "cells": [
  {
   "cell_type": "markdown",
   "id": "f38e721e-c12e-45bc-9f12-cd8c7eade01b",
   "metadata": {},
   "source": [
    "# 3. Exploiting Correlation\n",
    "\n",
    "Financial Data is meant not only to process data but to understand how meaningful factors can be used to summarize or represent the data. Let's understand the role that correlation and principal components play."
   ]
  },
  {
   "cell_type": "markdown",
   "id": "d33e8fe0-d7c5-45aa-87ee-f4e029b95273",
   "metadata": {},
   "source": [
    "**a. Generate 5 uncorrelated Gaussian random rariables that simulate yield changes(they can be positive or negative with a mean close to 0 and a standard deviation that is small).**"
   ]
  },
  {
   "cell_type": "code",
   "execution_count": 3,
   "id": "8c73619a-425a-4172-8245-67b9c74ea4d3",
   "metadata": {},
   "outputs": [
    {
     "name": "stdout",
     "output_type": "stream",
     "text": [
      "[ 0.00620131 -0.01282688  0.00722685  0.00318651  0.00025526]\n"
     ]
    }
   ],
   "source": [
    "import numpy as np\n",
    "\n",
    "\n",
    "# Set the mean an standard deviation\n",
    "mean = 0\n",
    "std_dev = 0.01 # can adjust this value to change the spread of the data\n",
    "\n",
    "# Generate 5 uncorrelated Gaussian random varibales\n",
    "random_variables = np.random.normal(mean, std_dev, 5)\n",
    "\n",
    "print(random_variables)"
   ]
  },
  {
   "cell_type": "markdown",
   "id": "b890ab68-625c-4010-8561-f620ed4d0cc5",
   "metadata": {},
   "source": [
    "This code will generate an array of 5 random variables sampled from a normal distribution with the specified mean and standard deviation. The variables will be uncorrelated because they are drawn independently from the distribution."
   ]
  },
  {
   "cell_type": "markdown",
   "id": "8fe724f3-a478-44bc-a172-e5fca90b5aa9",
   "metadata": {},
   "source": [
    "**b. Run a principal Components using EITHER the correlation OR covariace matrix.**"
   ]
  },
  {
   "cell_type": "markdown",
   "id": "a24a958c-41fc-499f-8014-a425a5843d5c",
   "metadata": {},
   "source": [
    "To perform Principal Component Analysis(PCA) using either the correlation or covariance matrix, can follow these steps.\n",
    "\n",
    "**Using the Covariance Matrix**\n",
    "\n",
    "1. **Standardize the Data:** Ensure data is standardized (mean of 0 and standard deviation of 1) if I want the covariance matrix to be equivalent to the correlaiton matrix.\n",
    "2. **Compute the Covariance Matrix:** Calculate the covariance matrix of the standardized dataset.\n",
    "3. **Eigenvalue Decompostion:** Perform eigenvalue decomposition on the covariance matrix to obtain the eigenvalues and eigenvectors.\n",
    "4. **Sort Eigenvalues and Eigenvectors:** Sort the eigenvalues in descending order and arrange the corresponding eigenvectores accordingly.\n",
    "5. **Principal Components:** The eigenvectors corresponding to the sorted eigenvalues are the principal components. The eigenvalues represents the variance the variance explained by each principal component.\n",
    "\n",
    "**Using the Correlation Matrix**\n",
    "\n",
    "1. **Standardize the Data:** Ensure data is standardized(mean of 0 and standard deviation of 1) if I want the covariance matrix to be equivalent to the correaltion matrix.\n",
    "2. **Compute the Correlation Matrix:** Calculate the correaltion matrix of the standardized dataset. For a standardized dataset, the correlation matrix is equivalent to the covariance matrix.\n",
    "3. **Eigenvalue Decompostion:** Perform eigenvalue decomposition on the correlation matrix to obtain the eigenvalues and eigenvectors.\n",
    "4. **Sort Eigenvalues and Eigenvectors:** Sort the eigenvalues in descending order and arrange the corresponding eigenvectores accordingly.\n",
    "5. **Principle Components:** The eigenvectors corresponding ot sorted eighenvalues are the principal components. The eigenvalues represents the variance explained by each principal component."
   ]
  },
  {
   "cell_type": "code",
   "execution_count": 6,
   "id": "10e784aa-2173-4440-97b5-7125572b9a42",
   "metadata": {},
   "outputs": [
    {
     "name": "stdout",
     "output_type": "stream",
     "text": [
      "Eigenvalues (Variance Explained): [2.13992141 0.08230081]\n",
      "Principal Components: [[-0.70710678 -0.70710678]\n",
      " [-0.70710678  0.70710678]]\n"
     ]
    }
   ],
   "source": [
    "# step 1: Standardize the data\n",
    "data = np.array([[2.5, 2.4], [0.5, 0.7], [2.2, 2.9], [1.9, 2.2], [3.1, 3.0], \n",
    "                 [2.3, 2.7], [2, 1.6], [1, 1.1], [1.5, 1.6], [1.1, 0.9]])\n",
    "mean = np.mean(data, axis=0)\n",
    "std_dev = np.std(data, axis=0)\n",
    "standardized_data = (data - mean) / std_dev\n",
    "\n",
    "# Step 2: Compute the Covariance Matrix\n",
    "covariance_matrix = np.cov(standardized_data, rowvar=False)\n",
    "\n",
    "# Step 3: Eigenvalues Decompostion\n",
    "eigenvalues, eigenvectors = np.linalg.eig(covariance_matrix)\n",
    "\n",
    "# Step 4: sort Eigenvalues and Eigenvectors\n",
    "sorted_indices = np.argsort(eigenvalues)[::-1]\n",
    "sorted_eigenvalues = eigenvalues[sorted_indices]\n",
    "sorted_eigenvectors = eigenvectors[:, sorted_indices]\n",
    "\n",
    "# Step 5: Principal Components\n",
    "principal_components = sorted_eigenvectors\n",
    "\n",
    "print(\"Eigenvalues (Variance Explained):\", sorted_eigenvalues)\n",
    "print(\"Principal Components:\", principal_components)"
   ]
  },
  {
   "cell_type": "markdown",
   "id": "a15684d1-718d-4210-a684-1a1c01056250",
   "metadata": {},
   "source": [
    "**Using Singular Value Decomposition (SVD)**"
   ]
  },
  {
   "cell_type": "code",
   "execution_count": 8,
   "id": "c9fee7d7-9b73-4fda-ae2c-bcc4c8dfe43e",
   "metadata": {},
   "outputs": [
    {
     "name": "stdout",
     "output_type": "stream",
     "text": [
      "Eigenvalues (Variance Explained): [2.13992141 0.08230081]\n",
      "Principal Components: [[-0.70710678  0.70710678]\n",
      " [-0.70710678 -0.70710678]]\n"
     ]
    }
   ],
   "source": [
    "# Step 1: Standardize the Data\n",
    "data = np.array([[2.5, 2.4], [0.5, 0.7], [2.2, 2.9], [1.9, 2.2], [3.1, 3.0], \n",
    "                 [2.3, 2.7], [2, 1.6], [1, 1.1], [1.5, 1.6], [1.1, 0.9]])\n",
    "mean = np.mean(data, axis=0)\n",
    "std_dev = np.std(data, axis=0)\n",
    "standardized_data = (data - mean) / std_dev\n",
    "\n",
    "# Step 2: Compute SVD\n",
    "U, S, Vt = np.linalg.svd(standardized_data)\n",
    "\n",
    "# Step 3: Principle component and Eigenvalues\n",
    "eigenvalues = S**2 / (standardized_data.shape[0] - 1)\n",
    "eigenvectors = Vt.T\n",
    "\n",
    "\n",
    "print(\"Eigenvalues (Variance Explained):\", eigenvalues)\n",
    "print(\"Principal Components:\", eigenvectors)"
   ]
  },
  {
   "cell_type": "markdown",
   "id": "163b29fe-951c-4b44-8513-ee16d525ecd7",
   "metadata": {},
   "source": [
    "In the both methods, the eigenvalues represents the variance explained by each principal component, and the eigenvectors are the principal components themselves"
   ]
  },
  {
   "cell_type": "code",
   "execution_count": null,
   "id": "f6a1f142-4935-4fff-ae54-2338cb6ed4bc",
   "metadata": {},
   "outputs": [],
   "source": []
  }
 ],
 "metadata": {
  "kernelspec": {
   "display_name": "Python 3 (ipykernel)",
   "language": "python",
   "name": "python3"
  },
  "language_info": {
   "codemirror_mode": {
    "name": "ipython",
    "version": 3
   },
   "file_extension": ".py",
   "mimetype": "text/x-python",
   "name": "python",
   "nbconvert_exporter": "python",
   "pygments_lexer": "ipython3",
   "version": "3.11.2"
  }
 },
 "nbformat": 4,
 "nbformat_minor": 5
}
